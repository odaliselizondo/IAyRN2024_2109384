{
  "nbformat": 4,
  "nbformat_minor": 0,
  "metadata": {
    "colab": {
      "provenance": []
    },
    "kernelspec": {
      "name": "python3",
      "display_name": "Python 3"
    },
    "language_info": {
      "name": "python"
    }
  },
  "cells": [
    {
      "cell_type": "markdown",
      "source": [
        "Nombre: Odalis Areili Elizondo Marquez   Matricula: 2109384 Carrera: IMTC\n",
        "Hora: N2 Inteligencia Artificial y Redes Neuronales"
      ],
      "metadata": {
        "id": "5o7Pj4pQDQko"
      }
    },
    {
      "cell_type": "code",
      "source": [
        "import numpy as np\n",
        "import tensorflow as tf\n",
        "from tensorflow.keras.datasets import mnist\n",
        "from tensorflow.keras.models import Sequential\n",
        "from tensorflow.keras.layers import Conv2D, MaxPooling2D, Flatten, Dense\n",
        "from tensorflow.keras.utils import to_categorical\n",
        "from tensorflow.keras.optimizers import Adam\n",
        "\n",
        "\n",
        "print(tf.__version__)\n",
        "\n",
        "(train_data, train_labels), (test_data, test_labels) = mnist.load_data()\n",
        "\n",
        "\n",
        "train_data = train_data.astype('float32') / 255.0\n",
        "test_data = test_data.astype('float32') / 255.0\n",
        "\n",
        "\n",
        "train_data = np.expand_dims(train_data, -1)  l\n",
        "test_data = np.expand_dims(test_data, -1)\n",
        "\n",
        "\n",
        "train_labels = to_categorical(train_labels, 10)\n",
        "test_labels = to_categorical(test_labels, 10)\n",
        "\n",
        "model = Sequential()\n",
        "\n",
        "\n",
        "model.add(Conv2D(32, kernel_size=(3, 3), activation='relu', input_shape=(28, 28, 1)))\n",
        "model.add(MaxPooling2D(pool_size=(2, 2)))\n",
        "model.add(Conv2D(64, kernel_size=(3, 3), activation='relu'))\n",
        "model.add(MaxPooling2D(pool_size=(2, 2)))\n",
        "\n",
        "model.add(Flatten())\n",
        "\n",
        "model.add(Dense(128, activation='relu'))\n",
        "model.add(Dense(10, activation='softmax'))\n",
        "\n",
        "model.compile(loss='categorical_crossentropy',\n",
        "              optimizer=Adam(),\n",
        "              metrics=['accuracy'])\n",
        "\n",
        "model.fit(train_data, train_labels, epochs=10, batch_size=128, validation_split=0.2)\n",
        "a\n",
        "test_loss, test_accuracy = model.evaluate(test_data, test_labels)\n",
        "print(f\"Exactitud en el conjunto de prueba: {test_accuracy:.4f}\")\n",
        "\n",
        "predictions = model.predict(test_data)\n",
        "\n",
        "\n",
        "for i in range(5):\n",
        "    prediction = np.argmax(predictions[i])\n",
        "    actual = np.argmax(test_labels[i])\n",
        "    print(f\"Predicción: {prediction}, Valor real: {actual}\")\n"
      ],
      "metadata": {
        "colab": {
          "base_uri": "https://localhost:8080/"
        },
        "id": "HLLv_mjEDVze",
        "outputId": "c3de511f-8f44-43af-eca3-e72b7efec95e"
      },
      "execution_count": 4,
      "outputs": [
        {
          "output_type": "stream",
          "name": "stdout",
          "text": [
            "2.15.0\n",
            "Epoch 1/10\n",
            "375/375 [==============================] - 42s 110ms/step - loss: 0.2339 - accuracy: 0.9316 - val_loss: 0.0756 - val_accuracy: 0.9787\n",
            "Epoch 2/10\n",
            "375/375 [==============================] - 40s 108ms/step - loss: 0.0638 - accuracy: 0.9805 - val_loss: 0.0513 - val_accuracy: 0.9839\n",
            "Epoch 3/10\n",
            "375/375 [==============================] - 39s 103ms/step - loss: 0.0445 - accuracy: 0.9859 - val_loss: 0.0488 - val_accuracy: 0.9862\n",
            "Epoch 4/10\n",
            "375/375 [==============================] - 38s 101ms/step - loss: 0.0335 - accuracy: 0.9895 - val_loss: 0.0484 - val_accuracy: 0.9843\n",
            "Epoch 5/10\n",
            "375/375 [==============================] - 40s 108ms/step - loss: 0.0259 - accuracy: 0.9916 - val_loss: 0.0412 - val_accuracy: 0.9878\n",
            "Epoch 6/10\n",
            "375/375 [==============================] - 38s 102ms/step - loss: 0.0206 - accuracy: 0.9936 - val_loss: 0.0436 - val_accuracy: 0.9883\n",
            "Epoch 7/10\n",
            "375/375 [==============================] - 39s 103ms/step - loss: 0.0152 - accuracy: 0.9952 - val_loss: 0.0398 - val_accuracy: 0.9888\n",
            "Epoch 8/10\n",
            "375/375 [==============================] - 40s 106ms/step - loss: 0.0135 - accuracy: 0.9957 - val_loss: 0.0450 - val_accuracy: 0.9884\n",
            "Epoch 9/10\n",
            "375/375 [==============================] - 42s 111ms/step - loss: 0.0101 - accuracy: 0.9967 - val_loss: 0.0387 - val_accuracy: 0.9898\n",
            "Epoch 10/10\n",
            "375/375 [==============================] - 40s 106ms/step - loss: 0.0082 - accuracy: 0.9974 - val_loss: 0.0394 - val_accuracy: 0.9899\n",
            "313/313 [==============================] - 4s 13ms/step - loss: 0.0292 - accuracy: 0.9902\n",
            "Exactitud en el conjunto de prueba: 0.9902\n",
            "313/313 [==============================] - 3s 9ms/step\n",
            "Predicción: 7, Valor real: 7\n",
            "Predicción: 2, Valor real: 2\n",
            "Predicción: 1, Valor real: 1\n",
            "Predicción: 0, Valor real: 0\n",
            "Predicción: 4, Valor real: 4\n"
          ]
        }
      ]
    }
  ]
}