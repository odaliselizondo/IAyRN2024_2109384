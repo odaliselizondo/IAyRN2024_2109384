{
  "nbformat": 4,
  "nbformat_minor": 0,
  "metadata": {
    "colab": {
      "provenance": [],
      "authorship_tag": "ABX9TyMw+LZKzd0V6n5CV2t+Wm4L",
      "include_colab_link": true
    },
    "kernelspec": {
      "name": "python3",
      "display_name": "Python 3"
    },
    "language_info": {
      "name": "python"
    }
  },
  "cells": [
    {
      "cell_type": "markdown",
      "metadata": {
        "id": "view-in-github",
        "colab_type": "text"
      },
      "source": [
        "<a href=\"https://colab.research.google.com/github/odaliselizondo/IAyRN2024_2109384/blob/main/ITNARTyRN_ACT_2_2109384.ipynb\" target=\"_parent\"><img src=\"https://colab.research.google.com/assets/colab-badge.svg\" alt=\"Open In Colab\"/></a>"
      ]
    },
    {
      "cell_type": "code",
      "execution_count": null,
      "metadata": {
        "id": "AWtoWq76lH6F"
      },
      "outputs": [],
      "source": []
    },
    {
      "cell_type": "markdown",
      "source": [
        "ACTIVIDAD 2: Diseño de algoritmos en Python Odalis Areili Elizondo Marquez 2109384 N1"
      ],
      "metadata": {
        "id": "PanCOgXzlRZh"
      }
    },
    {
      "cell_type": "code",
      "source": [],
      "metadata": {
        "id": "4EP19Xe8pCUb"
      },
      "execution_count": null,
      "outputs": []
    },
    {
      "cell_type": "code",
      "source": [
        "from itertools import filterfalse\n",
        "\"\"\"1. Desarrolla un algoritmo que le pida al usuario y que lo salude con su nombre, excepto si se llama Ana, Juan y Pablo\"\"\"\n",
        "\n",
        "nombre= input (\"Hola! ¿Puedes introducir tu nombre?\")\n",
        "if nombre == \"Ana\" or nombre == \"Juan\" or nombre == \"Pablo\":\n",
        "  print (\" No te saludo \")\n",
        "else:\n",
        "  print (\" Hola \" + nombre )\n",
        "\n",
        "\n",
        "\"\"\"2. Desarrolla un algoritmo que por medio de una funcion le pida al usuario una lista de N elementos y como resultado invierta el sentido de la lista\"\"\"\n",
        "num= int (input (\" ¿Cual es la cantidad de elementos de su lista? \"))\n",
        "\n",
        "lista= []\n",
        "for i in range(num):\n",
        "  el= input(f\" Ingresa el elemento de tu lista {i + 1}: \")\n",
        "  lista.append(el)\n",
        "\n",
        "listainv = lista[::-1]\n",
        "print(\"Lista invertida:\", listainv)\n",
        "\n",
        "\n",
        "\"\"\"3. Desarrolla un algoritmo que le pregunte al usuario cuantos numeros de la serie fibonacci quiere generar y que al final los imprima\"\"\"\n",
        "\n",
        "def genfib(cantidad):\n",
        "  fibonacci= [0, 1]\n",
        "  while len(fibonacci) < cantidad:\n",
        "    fibonacci.append(fibonacci[-1] + fibonacci[-2])\n",
        "  return fibonacci\n",
        "\n",
        "cantnum= int(input(\"Cuantos numeros de la serie fibonacci desea ver \"))\n",
        "\n",
        "seriefib = genfib(cantnum)\n",
        "\n",
        "print(f\"Los primeros {cantnum} numeros de la serie fibonacci son:\")\n",
        "print(seriefib)\n",
        "\n",
        "\n",
        "\"\"\"4. Juego de adivinar el numero: Crea un programa que genere un numero aleatorio entre 1 y 100 y luego le pida al usuario que adivine el numero.\"\"\"\n",
        "\"\"\"El programa debe proporcionar pistas al usuario si el numero es mayor o menor que el numero objetivo, y seguir solicitando un nuevo intento hasta que el usuario adivine correctamente\"\"\"\n",
        "print(\"Bienvenido al juego, se generara un numero del 1-100, adivina cual es\")\n",
        "import random\n",
        "numero= random.randint(1, 101)\n",
        "intento=int\n",
        "while True:\n",
        "  intento= int (input(\"¿Cual crees que sea el numero?\"))\n",
        "  intento+= 1\n",
        "  break\n",
        "if intento == numero:\n",
        "    print(f\"Bien!! Has adivinado el numero {numero} \")\n",
        "\n",
        "if intento < numero:\n",
        "      print(\"El numero es mayor. Intenta de nuevo\")\n",
        "if intento > numero:\n",
        "      print(\"El numero es menor. Intenta de nuevo\")\n",
        "\n",
        "\"\"\"5. Ejercicio de calculo de numeros primos en un rango dado: Escribe un programa que solicite al usuario un rango de numeros y muestre todos los numeros primos dentro de ese rango\"\"\"\n",
        "\n",
        "def primo(numero):\n",
        "    if numero < 2:\n",
        "        return False\n",
        "    for i in range(2, int(numero**0.5) + 1):\n",
        "        if numero % i == 0:\n",
        "            return False\n",
        "    return True\n",
        "\n",
        "iniciorango = int(input(\"Ingrese el inicio del rango: \"))\n",
        "finrango = int(input(\"Ingrese el final del rango: \"))\n",
        "\n",
        "\n",
        "primosenrango = [num for num in range(iniciorango, finrango + 1) if primo(num)]\n",
        "\n",
        "print(f\"Los números primos en el rango de {iniciorango} a {finrango} son:\")\n",
        "print(primosenrango)\n",
        "\n",
        "\"\"\"6. Ejercicio de implementacion de una calculadora basica utilizando funciones:\"\"\"\n",
        "\"\"\" escribe un programa que solicite al usuario dos numeros y realice operaciones basicas como suma, resta, multiplicacion y division utilizando funciones separadas para cada operacion\"\"\"\n",
        "\n",
        "print(\"Esta es una calculadora\")\n",
        "N1= int(input(\"Ingrese el primer numero \"))\n",
        "N2= int(input(\"Ingrese el segundo numero \"))\n",
        "\n",
        "print(\"Te mostrare las operaciones basicas que puedo hacer con ellos \")\n",
        "\n",
        "suma = N1 + N2\n",
        "resta = N1 - N2\n",
        "mult = N1 * N2\n",
        "div = N1 / N2\n",
        "\n",
        "print(f\"Para la suma el resultado es {suma}\")\n",
        "print(f\"Para la resta el resultado es {resta}\")\n",
        "print(f\"Para la multiplicacion el resultado es {mult}\")\n",
        "print(f\"Para la division el resultado es {div}\")"
      ],
      "metadata": {
        "colab": {
          "base_uri": "https://localhost:8080/"
        },
        "id": "VmsYL7Z3lZA9",
        "outputId": "95a89c70-696b-4c23-88cc-43ddc601334a"
      },
      "execution_count": 56,
      "outputs": [
        {
          "output_type": "stream",
          "name": "stdout",
          "text": [
            "Hola! ¿Puedes introducir tu nombre?o\n",
            " Hola o\n",
            " ¿Cual es la cantidad de elementos de su lista? 1\n",
            " Ingresa el elemento de tu lista 1: 4\n",
            "Lista invertida: ['4']\n",
            "Cuantos numeros de la serie fibonacci desea ver 5\n",
            "Los primeros 5 numeros de la serie fibonacci son:\n",
            "[0, 1, 1, 2, 3]\n",
            "Bienvenido al juego, se generara un numero del 1-100, adivina cual es\n",
            "¿Cual crees que sea el numero?100\n",
            "El numero es menor. Intenta de nuevo\n",
            "Ingrese el inicio del rango: 1\n",
            "Ingrese el final del rango: 16\n",
            "Los números primos en el rango de 1 a 16 son:\n",
            "[2, 3, 5, 7, 11, 13]\n",
            "Esta es una calculadora\n",
            "Ingrese el primer numero 1\n",
            "Ingrese el segundo numero 4\n",
            "Te mostrare las operaciones basicas que puedo hacer con ellos \n",
            "Para la suma el resultado es 5\n",
            "Para la resta el resultado es -3\n",
            "Para la multiplicacion el resultado es 4\n",
            "Para la division el resultado es 0.25\n"
          ]
        }
      ]
    },
    {
      "cell_type": "markdown",
      "source": [],
      "metadata": {
        "id": "kL6KQXLHlKbF"
      }
    },
    {
      "cell_type": "code",
      "source": [],
      "metadata": {
        "id": "exU6AFg_ywZM"
      },
      "execution_count": null,
      "outputs": []
    }
  ]
}